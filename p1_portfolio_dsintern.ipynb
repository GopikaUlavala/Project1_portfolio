{
 "cells": [
  {
   "cell_type": "code",
   "execution_count": 7,
   "id": "27cfb383",
   "metadata": {},
   "outputs": [
    {
     "name": "stdout",
     "output_type": "stream",
     "text": [
      "Enter Student details:\n",
      "Enter student name: gopika\n",
      "Enter student standard: 10\n",
      "Enter student roll number20\n",
      "Enter student marks in given below subjects\n",
      "Maths: 49\n",
      "Python: 47\n",
      "Machine Learning: 43\n",
      "Image processing: 50\n",
      "******************* These are your given student details ******************\n",
      "Student's name:gopika\n",
      "Student's study10\n",
      "Student's roll no:20\n",
      "Total marks gained: 189\n",
      "percentage of student:47.25\n",
      "keepgoing on\n"
     ]
    }
   ],
   "source": [
    "print(\"Enter Student details:\")\n",
    "name=str(input(\"Enter student name: \"))\n",
    "standard=str(input(\"Enter student standard: \"))\n",
    "roll=str(input(\"Enter student roll number\"))\n",
    "print(\"Enter student marks in given below subjects\")\n",
    "s1=int(input(\"Maths: \"))\n",
    "s2=int(input(\"Python: \"))\n",
    "s3=int(input(\"Machine Learning: \"))\n",
    "s4=int(input(\"Image processing: \"))\n",
    "ttl_marks=s1+s2+s3+s4\n",
    "per=float((ttl_marks/400)*100)\n",
    "print(\"******************* These are your given student details ******************\")\n",
    "print(\"Student's name:\"+str(name)+\"\\nStudent's study\"+str(standard)+\"\\nStudent's roll no:\"+str(roll))\n",
    "print(\"Total marks gained: \"+str(ttl_marks)+\"\\npercentage of student:\"+str(per))\n",
    "print(\"keepgoing on.....\")\n"
   ]
  },
  {
   "cell_type": "code",
   "execution_count": null,
   "id": "20d90985",
   "metadata": {},
   "outputs": [],
   "source": []
  },
  {
   "cell_type": "code",
   "execution_count": null,
   "id": "921644ff",
   "metadata": {},
   "outputs": [],
   "source": []
  }
 ],
 "metadata": {
  "kernelspec": {
   "display_name": "Python 3",
   "language": "python",
   "name": "python3"
  },
  "language_info": {
   "codemirror_mode": {
    "name": "ipython",
    "version": 3
   },
   "file_extension": ".py",
   "mimetype": "text/x-python",
   "name": "python",
   "nbconvert_exporter": "python",
   "pygments_lexer": "ipython3",
   "version": "3.8.8"
  }
 },
 "nbformat": 4,
 "nbformat_minor": 5
}
